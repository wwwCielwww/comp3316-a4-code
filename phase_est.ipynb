{
 "cells": [
  {
   "cell_type": "markdown",
   "metadata": {},
   "source": [
    "# Quantum Phase Estimation"
   ]
  },
  {
   "cell_type": "code",
   "execution_count": 1,
   "metadata": {},
   "outputs": [
    {
     "name": "stderr",
     "output_type": "stream",
     "text": [
      "/home/ciel/.local/lib/python3.6/site-packages/qiskit/__init__.py:66: DeprecationWarning: Using Qiskit with Python 3.6 is deprecated as of qiskit-terra 0.17.0. Support for running Qiskit with Python 3.6 will be removed in qiskit-terra 0.20.0.\n",
      "  DeprecationWarning,\n"
     ]
    }
   ],
   "source": [
    "import matplotlib.pyplot as plt\n",
    "import numpy as np\n",
    "import math\n",
    "\n",
    "# importing Qiskit\n",
    "from qiskit import Aer, transpile, assemble\n",
    "from qiskit import QuantumCircuit\n",
    "from qiskit.visualization import plot_histogram"
   ]
  },
  {
   "cell_type": "markdown",
   "metadata": {},
   "source": [
    "## Example 1: Finding the phase of the T-gate\n",
    "Recalling the definition of the T-gate, it adds a phase of $e^{\\frac{i\\pi}{4}}$ to the state $|1\\rangle$. The quantum phase estimation algorithm finds the eigenvalue of a unitary matrix as $e^{2i\\pi\\theta}$. Here we expect to find $\\theta=\\frac{1}{8}$. Note that we can find the value without any error."
   ]
  },
  {
   "cell_type": "markdown",
   "metadata": {},
   "source": [
    "### Initializing the 2 registers\n",
    "The first 3 qubits would act as counting qubits, while the last qubit as the eigenstate of the unitary operator."
   ]
  },
  {
   "cell_type": "code",
   "execution_count": 2,
   "metadata": {},
   "outputs": [
    {
     "data": {
      "text/html": [
       "<pre style=\"word-wrap: normal;white-space: pre;background: #fff0;line-height: 1.1;font-family: &quot;Courier New&quot;,Courier,monospace\">          \n",
       "q_0: ─────\n",
       "          \n",
       "q_1: ─────\n",
       "          \n",
       "q_2: ─────\n",
       "     ┌───┐\n",
       "q_3: ┤ X ├\n",
       "     └───┘\n",
       "c: 3/═════\n",
       "          </pre>"
      ],
      "text/plain": [
       "          \n",
       "q_0: ─────\n",
       "          \n",
       "q_1: ─────\n",
       "          \n",
       "q_2: ─────\n",
       "     ┌───┐\n",
       "q_3: ┤ X ├\n",
       "     └───┘\n",
       "c: 3/═════\n",
       "          "
      ]
     },
     "execution_count": 2,
     "metadata": {},
     "output_type": "execute_result"
    }
   ],
   "source": [
    "qpe = QuantumCircuit(4, 3)\n",
    "qpe.x(3)\n",
    "qpe.draw()"
   ]
  },
  {
   "cell_type": "markdown",
   "metadata": {},
   "source": [
    "### Applying the Hadamard gate on the first register"
   ]
  },
  {
   "cell_type": "code",
   "execution_count": 3,
   "metadata": {},
   "outputs": [
    {
     "data": {
      "text/html": [
       "<pre style=\"word-wrap: normal;white-space: pre;background: #fff0;line-height: 1.1;font-family: &quot;Courier New&quot;,Courier,monospace\">     ┌───┐\n",
       "q_0: ┤ H ├\n",
       "     ├───┤\n",
       "q_1: ┤ H ├\n",
       "     ├───┤\n",
       "q_2: ┤ H ├\n",
       "     ├───┤\n",
       "q_3: ┤ X ├\n",
       "     └───┘\n",
       "c: 3/═════\n",
       "          </pre>"
      ],
      "text/plain": [
       "     ┌───┐\n",
       "q_0: ┤ H ├\n",
       "     ├───┤\n",
       "q_1: ┤ H ├\n",
       "     ├───┤\n",
       "q_2: ┤ H ├\n",
       "     ├───┤\n",
       "q_3: ┤ X ├\n",
       "     └───┘\n",
       "c: 3/═════\n",
       "          "
      ]
     },
     "execution_count": 3,
     "metadata": {},
     "output_type": "execute_result"
    }
   ],
   "source": [
    "for qubit in range(3):\n",
    "    qpe.h(qubit)\n",
    "qpe.draw()"
   ]
  },
  {
   "cell_type": "markdown",
   "metadata": {},
   "source": [
    "### Applying the controlled unitary operations"
   ]
  },
  {
   "cell_type": "code",
   "execution_count": 4,
   "metadata": {},
   "outputs": [
    {
     "data": {
      "text/html": [
       "<pre style=\"word-wrap: normal;white-space: pre;background: #fff0;line-height: 1.1;font-family: &quot;Courier New&quot;,Courier,monospace\">     ┌───┐                                                               \n",
       "q_0: ┤ H ├─■─────────────────────────────────────────────────────────────\n",
       "     ├───┤ │                                                             \n",
       "q_1: ┤ H ├─┼────────■────────■───────────────────────────────────────────\n",
       "     ├───┤ │        │        │                                           \n",
       "q_2: ┤ H ├─┼────────┼────────┼────────■────────■────────■────────■───────\n",
       "     ├───┤ │P(π/4)  │P(π/4)  │P(π/4)  │P(π/4)  │P(π/4)  │P(π/4)  │P(π/4) \n",
       "q_3: ┤ X ├─■────────■────────■────────■────────■────────■────────■───────\n",
       "     └───┘                                                               \n",
       "c: 3/════════════════════════════════════════════════════════════════════\n",
       "                                                                         </pre>"
      ],
      "text/plain": [
       "     ┌───┐                                                               \n",
       "q_0: ┤ H ├─■─────────────────────────────────────────────────────────────\n",
       "     ├───┤ │                                                             \n",
       "q_1: ┤ H ├─┼────────■────────■───────────────────────────────────────────\n",
       "     ├───┤ │        │        │                                           \n",
       "q_2: ┤ H ├─┼────────┼────────┼────────■────────■────────■────────■───────\n",
       "     ├───┤ │P(π/4)  │P(π/4)  │P(π/4)  │P(π/4)  │P(π/4)  │P(π/4)  │P(π/4) \n",
       "q_3: ┤ X ├─■────────■────────■────────■────────■────────■────────■───────\n",
       "     └───┘                                                               \n",
       "c: 3/════════════════════════════════════════════════════════════════════\n",
       "                                                                         "
      ]
     },
     "execution_count": 4,
     "metadata": {},
     "output_type": "execute_result"
    }
   ],
   "source": [
    "angle = 2*math.pi/8\n",
    "repetitions = 1\n",
    "for counting_qubit in range(3):\n",
    "    for i in range(repetitions):\n",
    "        qpe.cp(math.pi/4, counting_qubit, 3)\n",
    "    repetitions *= 2\n",
    "qpe.draw()"
   ]
  },
  {
   "cell_type": "markdown",
   "metadata": {},
   "source": [
    "### Applying the inverse quantum Fourier transform"
   ]
  },
  {
   "cell_type": "code",
   "execution_count": 5,
   "metadata": {},
   "outputs": [
    {
     "data": {
      "text/html": [
       "<pre style=\"word-wrap: normal;white-space: pre;background: #fff0;line-height: 1.1;font-family: &quot;Courier New&quot;,Courier,monospace\">     ┌───┐                                                                ░    »\n",
       "q_0: ┤ H ├─■──────────────────────────────────────────────────────────────░──X─»\n",
       "     ├───┤ │                                                              ░  │ »\n",
       "q_1: ┤ H ├─┼────────■────────■────────────────────────────────────────────░──┼─»\n",
       "     ├───┤ │        │        │                                            ░  │ »\n",
       "q_2: ┤ H ├─┼────────┼────────┼────────■────────■────────■────────■────────░──X─»\n",
       "     ├───┤ │P(π/4)  │P(π/4)  │P(π/4)  │P(π/4)  │P(π/4)  │P(π/4)  │P(π/4)  ░    »\n",
       "q_3: ┤ X ├─■────────■────────■────────■────────■────────■────────■────────░────»\n",
       "     └───┘                                                                ░    »\n",
       "c: 3/══════════════════════════════════════════════════════════════════════════»\n",
       "                                                                               »\n",
       "«     ┌───┐                                         ░ \n",
       "«q_0: ┤ H ├─■──────────────■────────────────────────░─\n",
       "«     └───┘ │P(-π/2) ┌───┐ │                        ░ \n",
       "«q_1: ──────■────────┤ H ├─┼─────────■──────────────░─\n",
       "«                    └───┘ │P(-π/4)  │P(-π/2) ┌───┐ ░ \n",
       "«q_2: ─────────────────────■─────────■────────┤ H ├─░─\n",
       "«                                             └───┘ ░ \n",
       "«q_3: ──────────────────────────────────────────────░─\n",
       "«                                                   ░ \n",
       "«c: 3/════════════════════════════════════════════════\n",
       "«                                                     </pre>"
      ],
      "text/plain": [
       "     ┌───┐                                                                ░    »\n",
       "q_0: ┤ H ├─■──────────────────────────────────────────────────────────────░──X─»\n",
       "     ├───┤ │                                                              ░  │ »\n",
       "q_1: ┤ H ├─┼────────■────────■────────────────────────────────────────────░──┼─»\n",
       "     ├───┤ │        │        │                                            ░  │ »\n",
       "q_2: ┤ H ├─┼────────┼────────┼────────■────────■────────■────────■────────░──X─»\n",
       "     ├───┤ │P(π/4)  │P(π/4)  │P(π/4)  │P(π/4)  │P(π/4)  │P(π/4)  │P(π/4)  ░    »\n",
       "q_3: ┤ X ├─■────────■────────■────────■────────■────────■────────■────────░────»\n",
       "     └───┘                                                                ░    »\n",
       "c: 3/══════════════════════════════════════════════════════════════════════════»\n",
       "                                                                               »\n",
       "«     ┌───┐                                         ░ \n",
       "«q_0: ┤ H ├─■──────────────■────────────────────────░─\n",
       "«     └───┘ │P(-π/2) ┌───┐ │                        ░ \n",
       "«q_1: ──────■────────┤ H ├─┼─────────■──────────────░─\n",
       "«                    └───┘ │P(-π/4)  │P(-π/2) ┌───┐ ░ \n",
       "«q_2: ─────────────────────■─────────■────────┤ H ├─░─\n",
       "«                                             └───┘ ░ \n",
       "«q_3: ──────────────────────────────────────────────░─\n",
       "«                                                   ░ \n",
       "«c: 3/════════════════════════════════════════════════\n",
       "«                                                     "
      ]
     },
     "execution_count": 5,
     "metadata": {},
     "output_type": "execute_result"
    }
   ],
   "source": [
    "def qft_dagger(qc, n):\n",
    "    for qubit in range(n//2):\n",
    "        qc.swap(qubit, n-qubit-1)\n",
    "    for j in range(n):\n",
    "        for m in range(j):\n",
    "            qc.cp(-math.pi/float(2**(j-m)), m, j)\n",
    "        qc.h(j)\n",
    "\n",
    "qpe.barrier()\n",
    "qft_dagger(qpe, 3)\n",
    "qpe.barrier()\n",
    "qpe.draw()"
   ]
  },
  {
   "cell_type": "markdown",
   "metadata": {},
   "source": [
    "### Measuring the first register on the computational basis "
   ]
  },
  {
   "cell_type": "code",
   "execution_count": 6,
   "metadata": {},
   "outputs": [
    {
     "data": {
      "text/html": [
       "<pre style=\"word-wrap: normal;white-space: pre;background: #fff0;line-height: 1.1;font-family: &quot;Courier New&quot;,Courier,monospace\">     ┌───┐                                                                ░    »\n",
       "q_0: ┤ H ├─■──────────────────────────────────────────────────────────────░──X─»\n",
       "     ├───┤ │                                                              ░  │ »\n",
       "q_1: ┤ H ├─┼────────■────────■────────────────────────────────────────────░──┼─»\n",
       "     ├───┤ │        │        │                                            ░  │ »\n",
       "q_2: ┤ H ├─┼────────┼────────┼────────■────────■────────■────────■────────░──X─»\n",
       "     ├───┤ │P(π/4)  │P(π/4)  │P(π/4)  │P(π/4)  │P(π/4)  │P(π/4)  │P(π/4)  ░    »\n",
       "q_3: ┤ X ├─■────────■────────■────────■────────■────────■────────■────────░────»\n",
       "     └───┘                                                                ░    »\n",
       "c: 3/══════════════════════════════════════════════════════════════════════════»\n",
       "                                                                               »\n",
       "«     ┌───┐                                         ░ ┌─┐      \n",
       "«q_0: ┤ H ├─■──────────────■────────────────────────░─┤M├──────\n",
       "«     └───┘ │P(-π/2) ┌───┐ │                        ░ └╥┘┌─┐   \n",
       "«q_1: ──────■────────┤ H ├─┼─────────■──────────────░──╫─┤M├───\n",
       "«                    └───┘ │P(-π/4)  │P(-π/2) ┌───┐ ░  ║ └╥┘┌─┐\n",
       "«q_2: ─────────────────────■─────────■────────┤ H ├─░──╫──╫─┤M├\n",
       "«                                             └───┘ ░  ║  ║ └╥┘\n",
       "«q_3: ──────────────────────────────────────────────░──╫──╫──╫─\n",
       "«                                                   ░  ║  ║  ║ \n",
       "«c: 3/═════════════════════════════════════════════════╩══╩══╩═\n",
       "«                                                      0  1  2 </pre>"
      ],
      "text/plain": [
       "     ┌───┐                                                                ░    »\n",
       "q_0: ┤ H ├─■──────────────────────────────────────────────────────────────░──X─»\n",
       "     ├───┤ │                                                              ░  │ »\n",
       "q_1: ┤ H ├─┼────────■────────■────────────────────────────────────────────░──┼─»\n",
       "     ├───┤ │        │        │                                            ░  │ »\n",
       "q_2: ┤ H ├─┼────────┼────────┼────────■────────■────────■────────■────────░──X─»\n",
       "     ├───┤ │P(π/4)  │P(π/4)  │P(π/4)  │P(π/4)  │P(π/4)  │P(π/4)  │P(π/4)  ░    »\n",
       "q_3: ┤ X ├─■────────■────────■────────■────────■────────■────────■────────░────»\n",
       "     └───┘                                                                ░    »\n",
       "c: 3/══════════════════════════════════════════════════════════════════════════»\n",
       "                                                                               »\n",
       "«     ┌───┐                                         ░ ┌─┐      \n",
       "«q_0: ┤ H ├─■──────────────■────────────────────────░─┤M├──────\n",
       "«     └───┘ │P(-π/2) ┌───┐ │                        ░ └╥┘┌─┐   \n",
       "«q_1: ──────■────────┤ H ├─┼─────────■──────────────░──╫─┤M├───\n",
       "«                    └───┘ │P(-π/4)  │P(-π/2) ┌───┐ ░  ║ └╥┘┌─┐\n",
       "«q_2: ─────────────────────■─────────■────────┤ H ├─░──╫──╫─┤M├\n",
       "«                                             └───┘ ░  ║  ║ └╥┘\n",
       "«q_3: ──────────────────────────────────────────────░──╫──╫──╫─\n",
       "«                                                   ░  ║  ║  ║ \n",
       "«c: 3/═════════════════════════════════════════════════╩══╩══╩═\n",
       "«                                                      0  1  2 "
      ]
     },
     "execution_count": 6,
     "metadata": {},
     "output_type": "execute_result"
    }
   ],
   "source": [
    "for n in range(3):\n",
    "    qpe.measure(n, n)\n",
    "qpe.draw()"
   ]
  },
  {
   "cell_type": "markdown",
   "metadata": {},
   "source": [
    "### Getting the result  "
   ]
  },
  {
   "cell_type": "code",
   "execution_count": 7,
   "metadata": {},
   "outputs": [
    {
     "name": "stderr",
     "output_type": "stream",
     "text": [
      "/home/ciel/.local/lib/python3.6/site-packages/qiskit/utils/deprecation.py:62: DeprecationWarning: Using a qobj for run() is deprecated as of qiskit-aer 0.9.0 and will be removed no sooner than 3 months from that release date. Transpiled circuits should now be passed directly using `backend.run(circuits, **run_options).\n",
      "  return func(*args, **kwargs)\n"
     ]
    },
    {
     "data": {
      "image/png": "[encoded data removed]",
      "text/plain": [
       "<Figure size 504x360 with 1 Axes>"
      ]
     },
     "execution_count": 7,
     "metadata": {},
     "output_type": "execute_result"
    }
   ],
   "source": [
    "aer_sim = Aer.get_backend('aer_simulator')\n",
    "shots = 2048\n",
    "t_qpe = transpile(qpe, aer_sim)\n",
    "qobj = assemble(t_qpe, shots=shots)\n",
    "results = aer_sim.run(qobj).result()\n",
    "counts = results.get_counts()\n",
    "\n",
    "plot_histogram(counts)"
   ]
  },
  {
   "cell_type": "markdown",
   "metadata": {},
   "source": [
    "Here we got the result 001 with certainty, which is 1 in decimal. Then we can divide the result by $2^n=2^3=8$ to get $\\theta$, namely $\\frac{1}{8}$, which is exactly what we are expecting!"
   ]
  },
  {
   "cell_type": "markdown",
   "metadata": {},
   "source": [
    "## Example 2: Estimating a phase $\\theta$ such that $2^n\\theta$ is not an integer\n",
    "We have seen that when $2^n\\theta$ is an integer, we can obtain the phase by measuring the qubits of the first register without any error. But what about the case where $2^n\\theta$ is not an integer? \n",
    "\n",
    "For the following example, let's consider $\\theta=\\frac{1}{3}$. First set up the circuit like what we have done in the lsat section."
   ]
  },
  {
   "cell_type": "code",
   "execution_count": 8,
   "metadata": {},
   "outputs": [
    {
     "data": {
      "text/html": [
       "<pre style=\"word-wrap: normal;white-space: pre;background: #fff0;line-height: 1.1;font-family: &quot;Courier New&quot;,Courier,monospace\">     ┌───┐                                                            »\n",
       "q_0: ┤ H ├─■──────────────────────────────────────────────────────────»\n",
       "     ├───┤ │                                                          »\n",
       "q_1: ┤ H ├─┼─────────■─────────■──────────────────────────────────────»\n",
       "     ├───┤ │         │         │                                      »\n",
       "q_2: ┤ H ├─┼─────────┼─────────┼─────────■─────────■─────────■────────»\n",
       "     ├───┤ │P(2π/3)  │P(2π/3)  │P(2π/3)  │P(2π/3)  │P(2π/3)  │P(2π/3) »\n",
       "q_3: ┤ X ├─■─────────■─────────■─────────■─────────■─────────■────────»\n",
       "     └───┘                                                            »\n",
       "c: 3/═════════════════════════════════════════════════════════════════»\n",
       "                                                                      »\n",
       "«                  ┌───┐                                   ┌─┐           \n",
       "«q_0: ───────────X─┤ H ├─■──────────────■──────────────────┤M├───────────\n",
       "«                │ └───┘ │P(-π/2) ┌───┐ │                  └╥┘     ┌─┐   \n",
       "«q_1: ───────────┼───────■────────┤ H ├─┼─────────■─────────╫──────┤M├───\n",
       "«                │                └───┘ │P(-π/4)  │P(-π/2)  ║ ┌───┐└╥┘┌─┐\n",
       "«q_2: ─■─────────X──────────────────────■─────────■─────────╫─┤ H ├─╫─┤M├\n",
       "«      │P(2π/3)                                             ║ └───┘ ║ └╥┘\n",
       "«q_3: ─■────────────────────────────────────────────────────╫───────╫──╫─\n",
       "«                                                           ║       ║  ║ \n",
       "«c: 3/══════════════════════════════════════════════════════╩═══════╩══╩═\n",
       "«                                                           0       1  2 </pre>"
      ],
      "text/plain": [
       "     ┌───┐                                                            »\n",
       "q_0: ┤ H ├─■──────────────────────────────────────────────────────────»\n",
       "     ├───┤ │                                                          »\n",
       "q_1: ┤ H ├─┼─────────■─────────■──────────────────────────────────────»\n",
       "     ├───┤ │         │         │                                      »\n",
       "q_2: ┤ H ├─┼─────────┼─────────┼─────────■─────────■─────────■────────»\n",
       "     ├───┤ │P(2π/3)  │P(2π/3)  │P(2π/3)  │P(2π/3)  │P(2π/3)  │P(2π/3) »\n",
       "q_3: ┤ X ├─■─────────■─────────■─────────■─────────■─────────■────────»\n",
       "     └───┘                                                            »\n",
       "c: 3/═════════════════════════════════════════════════════════════════»\n",
       "                                                                      »\n",
       "«                  ┌───┐                                   ┌─┐           \n",
       "«q_0: ───────────X─┤ H ├─■──────────────■──────────────────┤M├───────────\n",
       "«                │ └───┘ │P(-π/2) ┌───┐ │                  └╥┘     ┌─┐   \n",
       "«q_1: ───────────┼───────■────────┤ H ├─┼─────────■─────────╫──────┤M├───\n",
       "«                │                └───┘ │P(-π/4)  │P(-π/2)  ║ ┌───┐└╥┘┌─┐\n",
       "«q_2: ─■─────────X──────────────────────■─────────■─────────╫─┤ H ├─╫─┤M├\n",
       "«      │P(2π/3)                                             ║ └───┘ ║ └╥┘\n",
       "«q_3: ─■────────────────────────────────────────────────────╫───────╫──╫─\n",
       "«                                                           ║       ║  ║ \n",
       "«c: 3/══════════════════════════════════════════════════════╩═══════╩══╩═\n",
       "«                                                           0       1  2 "
      ]
     },
     "execution_count": 8,
     "metadata": {},
     "output_type": "execute_result"
    }
   ],
   "source": [
    "qpe2 = QuantumCircuit(4, 3)\n",
    "\n",
    "for qubit in range(3):\n",
    "    qpe2.h(qubit)\n",
    "qpe2.x(3)\n",
    "\n",
    "angle = 2*math.pi/3\n",
    "repetitions = 1\n",
    "for counting_qubit in range(3):\n",
    "    for i in range(repetitions):\n",
    "        qpe2.cp(angle, counting_qubit, 3);\n",
    "    repetitions *= 2\n",
    "\n",
    "qft_dagger(qpe2, 3)\n",
    "\n",
    "for n in range(3):\n",
    "    qpe2.measure(n, n)\n",
    "\n",
    "qpe2.draw()"
   ]
  },
  {
   "cell_type": "markdown",
   "metadata": {},
   "source": [
    "Then conduct measurment:"
   ]
  },
  {
   "cell_type": "code",
   "execution_count": 9,
   "metadata": {},
   "outputs": [
    {
     "data": {
      "image/png": "[encoded data removed]",
      "text/plain": [
       "<Figure size 504x360 with 1 Axes>"
      ]
     },
     "execution_count": 9,
     "metadata": {},
     "output_type": "execute_result"
    }
   ],
   "source": [
    "aer_sim = Aer.get_backend('aer_simulator')\n",
    "shots = 2048\n",
    "t_qpe2 = transpile(qpe2, aer_sim)\n",
    "qobj = assemble(t_qpe2, shots=shots)\n",
    "results = aer_sim.run(qobj).result()\n",
    "counts = results.get_counts()\n",
    "\n",
    "plot_histogram(counts)"
   ]
  },
  {
   "cell_type": "markdown",
   "metadata": {},
   "source": [
    "Since we are expecting the result $\\theta=0.3333\\dots$, which lies between $\\frac{[010]_2}{8}=\\frac{2}{8}$ and $\\frac{[011]_2}{8}=\\frac{3}{8}$. It's a good thing to know that we are very likely to get these two results from the measurement. However, even if we did get these two results, the true value still differs from them quite a lot, i.e., $\\theta=0.25$ (off by 25%) and $\\theta=0.375$ (off by 13%). "
   ]
  },
  {
   "cell_type": "markdown",
   "metadata": {},
   "source": [
    "### Example 3: Getting more precision\n",
    "To (not completely tho) solve this problem, we can simply use more counting qubits in the first register. Here we will be usinng 5 instead of 3 qubits."
   ]
  },
  {
   "cell_type": "code",
   "execution_count": 10,
   "metadata": {},
   "outputs": [
    {
     "data": {
      "text/html": [
       "<pre style=\"word-wrap: normal;white-space: pre;background: #fff0;line-height: 1.1;font-family: &quot;Courier New&quot;,Courier,monospace\">     ┌───┐                                                            »\n",
       "q_0: ┤ H ├─■──────────────────────────────────────────────────────────»\n",
       "     ├───┤ │                                                          »\n",
       "q_1: ┤ H ├─┼─────────■─────────■──────────────────────────────────────»\n",
       "     ├───┤ │         │         │                                      »\n",
       "q_2: ┤ H ├─┼─────────┼─────────┼─────────■─────────■─────────■────────»\n",
       "     ├───┤ │         │         │         │         │         │        »\n",
       "q_3: ┤ H ├─┼─────────┼─────────┼─────────┼─────────┼─────────┼────────»\n",
       "     ├───┤ │         │         │         │         │         │        »\n",
       "q_4: ┤ H ├─┼─────────┼─────────┼─────────┼─────────┼─────────┼────────»\n",
       "     ├───┤ │P(2π/3)  │P(2π/3)  │P(2π/3)  │P(2π/3)  │P(2π/3)  │P(2π/3) »\n",
       "q_5: ┤ X ├─■─────────■─────────■─────────■─────────■─────────■────────»\n",
       "     └───┘                                                            »\n",
       "c: 5/═════════════════════════════════════════════════════════════════»\n",
       "                                                                      »\n",
       "«                                                                           »\n",
       "«q_0: ──────────────────────────────────────────────────────────────────────»\n",
       "«                                                                           »\n",
       "«q_1: ──────────────────────────────────────────────────────────────────────»\n",
       "«                                                                           »\n",
       "«q_2: ─■────────────────────────────────────────────────────────────────────»\n",
       "«      │                                                                    »\n",
       "«q_3: ─┼─────────■─────────■─────────■─────────■─────────■─────────■────────»\n",
       "«      │         │         │         │         │         │         │        »\n",
       "«q_4: ─┼─────────┼─────────┼─────────┼─────────┼─────────┼─────────┼────────»\n",
       "«      │P(2π/3)  │P(2π/3)  │P(2π/3)  │P(2π/3)  │P(2π/3)  │P(2π/3)  │P(2π/3) »\n",
       "«q_5: ─■─────────■─────────■─────────■─────────■─────────■─────────■────────»\n",
       "«                                                                           »\n",
       "«c: 5/══════════════════════════════════════════════════════════════════════»\n",
       "«                                                                           »\n",
       "«                                                                           »\n",
       "«q_0: ──────────────────────────────────────────────────────────────────────»\n",
       "«                                                                           »\n",
       "«q_1: ────────────────────────X─────────────────────────────────────────────»\n",
       "«                             │                                             »\n",
       "«q_2: ────────────────────────┼─────────────────────────────────────────────»\n",
       "«                             │                                             »\n",
       "«q_3: ─■─────────■────────────X─────────────────────────────────────────────»\n",
       "«      │         │                                                          »\n",
       "«q_4: ─┼─────────┼─────────■─────────■─────────■─────────■─────────■────────»\n",
       "«      │P(2π/3)  │P(2π/3)  │P(2π/3)  │P(2π/3)  │P(2π/3)  │P(2π/3)  │P(2π/3) »\n",
       "«q_5: ─■─────────■─────────■─────────■─────────■─────────■─────────■────────»\n",
       "«                                                                           »\n",
       "«c: 5/══════════════════════════════════════════════════════════════════════»\n",
       "«                                                                           »\n",
       "«                                                                           »\n",
       "«q_0: ──────────────────────────────────────────────────────────────────────»\n",
       "«                                                                           »\n",
       "«q_1: ──────────────────────────────────────────────────────────────────────»\n",
       "«                                                                           »\n",
       "«q_2: ──────────────────────────────────────────────────────────────────────»\n",
       "«                                                                           »\n",
       "«q_3: ──────────────────────────────────────────────────────────────────────»\n",
       "«                                                                           »\n",
       "«q_4: ─■─────────■─────────■─────────■─────────■─────────■─────────■────────»\n",
       "«      │P(2π/3)  │P(2π/3)  │P(2π/3)  │P(2π/3)  │P(2π/3)  │P(2π/3)  │P(2π/3) »\n",
       "«q_5: ─■─────────■─────────■─────────■─────────■─────────■─────────■────────»\n",
       "«                                                                           »\n",
       "«c: 5/══════════════════════════════════════════════════════════════════════»\n",
       "«                                                                           »\n",
       "«                                                ┌───┐                         »\n",
       "«q_0: ─────────────────────────────────────────X─┤ H ├─■──────────────■────────»\n",
       "«                                              │ └───┘ │P(-π/2) ┌───┐ │        »\n",
       "«q_1: ─────────────────────────────────────────┼───────■────────┤ H ├─┼────────»\n",
       "«                                              │                └───┘ │P(-π/4) »\n",
       "«q_2: ─────────────────────────────────────────┼──────────────────────■────────»\n",
       "«                                              │                               »\n",
       "«q_3: ─────────────────────────────────────────┼───────────────────────────────»\n",
       "«                                              │                               »\n",
       "«q_4: ─■─────────■─────────■─────────■─────────X───────────────────────────────»\n",
       "«      │P(2π/3)  │P(2π/3)  │P(2π/3)  │P(2π/3)                                  »\n",
       "«q_5: ─■─────────■─────────■─────────■─────────────────────────────────────────»\n",
       "«                                                                              »\n",
       "«c: 5/═════════════════════════════════════════════════════════════════════════»\n",
       "«                                                                              »\n",
       "«                                                                       ┌─┐»\n",
       "«q_0: ───────────■────────────────────────■─────────────────────────────┤M├»\n",
       "«                │                        │                             └╥┘»\n",
       "«q_1: ─■─────────┼──────────────■─────────┼────────────────────■─────────╫─»\n",
       "«      │P(-π/2)  │        ┌───┐ │         │                    │         ║ »\n",
       "«q_2: ─■─────────┼────────┤ H ├─┼─────────┼──────────■─────────┼─────────╫─»\n",
       "«                │P(-π/8) └───┘ │P(-π/4)  │          │P(-π/2)  │         ║ »\n",
       "«q_3: ───────────■──────────────■─────────┼──────────■─────────┼─────────╫─»\n",
       "«                                         │P(-π/16)            │P(-π/8)  ║ »\n",
       "«q_4: ────────────────────────────────────■────────────────────■─────────╫─»\n",
       "«                                                                        ║ »\n",
       "«q_5: ───────────────────────────────────────────────────────────────────╫─»\n",
       "«                                                                        ║ »\n",
       "«c: 5/═══════════════════════════════════════════════════════════════════╩═»\n",
       "«                                                                        0 »\n",
       "«                                               \n",
       "«q_0: ──────────────────────────────────────────\n",
       "«                    ┌─┐                        \n",
       "«q_1: ───────────────┤M├────────────────────────\n",
       "«                    └╥┘          ┌─┐           \n",
       "«q_2: ──────■─────────╫───────────┤M├───────────\n",
       "«     ┌───┐ │         ║           └╥┘     ┌─┐   \n",
       "«q_3: ┤ H ├─┼─────────╫──■─────────╫──────┤M├───\n",
       "«     └───┘ │P(-π/4)  ║  │P(-π/2)  ║ ┌───┐└╥┘┌─┐\n",
       "«q_4: ──────■─────────╫──■─────────╫─┤ H ├─╫─┤M├\n",
       "«                     ║            ║ └───┘ ║ └╥┘\n",
       "«q_5: ────────────────╫────────────╫───────╫──╫─\n",
       "«                     ║            ║       ║  ║ \n",
       "«c: 5/════════════════╩════════════╩═══════╩══╩═\n",
       "«                     1            2       3  4 </pre>"
      ],
      "text/plain": [
       "     ┌───┐                                                            »\n",
       "q_0: ┤ H ├─■──────────────────────────────────────────────────────────»\n",
       "     ├───┤ │                                                          »\n",
       "q_1: ┤ H ├─┼─────────■─────────■──────────────────────────────────────»\n",
       "     ├───┤ │         │         │                                      »\n",
       "q_2: ┤ H ├─┼─────────┼─────────┼─────────■─────────■─────────■────────»\n",
       "     ├───┤ │         │         │         │         │         │        »\n",
       "q_3: ┤ H ├─┼─────────┼─────────┼─────────┼─────────┼─────────┼────────»\n",
       "     ├───┤ │         │         │         │         │         │        »\n",
       "q_4: ┤ H ├─┼─────────┼─────────┼─────────┼─────────┼─────────┼────────»\n",
       "     ├───┤ │P(2π/3)  │P(2π/3)  │P(2π/3)  │P(2π/3)  │P(2π/3)  │P(2π/3) »\n",
       "q_5: ┤ X ├─■─────────■─────────■─────────■─────────■─────────■────────»\n",
       "     └───┘                                                            »\n",
       "c: 5/═════════════════════════════════════════════════════════════════»\n",
       "                                                                      »\n",
       "«                                                                           »\n",
       "«q_0: ──────────────────────────────────────────────────────────────────────»\n",
       "«                                                                           »\n",
       "«q_1: ──────────────────────────────────────────────────────────────────────»\n",
       "«                                                                           »\n",
       "«q_2: ─■────────────────────────────────────────────────────────────────────»\n",
       "«      │                                                                    »\n",
       "«q_3: ─┼─────────■─────────■─────────■─────────■─────────■─────────■────────»\n",
       "«      │         │         │         │         │         │         │        »\n",
       "«q_4: ─┼─────────┼─────────┼─────────┼─────────┼─────────┼─────────┼────────»\n",
       "«      │P(2π/3)  │P(2π/3)  │P(2π/3)  │P(2π/3)  │P(2π/3)  │P(2π/3)  │P(2π/3) »\n",
       "«q_5: ─■─────────■─────────■─────────■─────────■─────────■─────────■────────»\n",
       "«                                                                           »\n",
       "«c: 5/══════════════════════════════════════════════════════════════════════»\n",
       "«                                                                           »\n",
       "«                                                                           »\n",
       "«q_0: ──────────────────────────────────────────────────────────────────────»\n",
       "«                                                                           »\n",
       "«q_1: ────────────────────────X─────────────────────────────────────────────»\n",
       "«                             │                                             »\n",
       "«q_2: ────────────────────────┼─────────────────────────────────────────────»\n",
       "«                             │                                             »\n",
       "«q_3: ─■─────────■────────────X─────────────────────────────────────────────»\n",
       "«      │         │                                                          »\n",
       "«q_4: ─┼─────────┼─────────■─────────■─────────■─────────■─────────■────────»\n",
       "«      │P(2π/3)  │P(2π/3)  │P(2π/3)  │P(2π/3)  │P(2π/3)  │P(2π/3)  │P(2π/3) »\n",
       "«q_5: ─■─────────■─────────■─────────■─────────■─────────■─────────■────────»\n",
       "«                                                                           »\n",
       "«c: 5/══════════════════════════════════════════════════════════════════════»\n",
       "«                                                                           »\n",
       "«                                                                           »\n",
       "«q_0: ──────────────────────────────────────────────────────────────────────»\n",
       "«                                                                           »\n",
       "«q_1: ──────────────────────────────────────────────────────────────────────»\n",
       "«                                                                           »\n",
       "«q_2: ──────────────────────────────────────────────────────────────────────»\n",
       "«                                                                           »\n",
       "«q_3: ──────────────────────────────────────────────────────────────────────»\n",
       "«                                                                           »\n",
       "«q_4: ─■─────────■─────────■─────────■─────────■─────────■─────────■────────»\n",
       "«      │P(2π/3)  │P(2π/3)  │P(2π/3)  │P(2π/3)  │P(2π/3)  │P(2π/3)  │P(2π/3) »\n",
       "«q_5: ─■─────────■─────────■─────────■─────────■─────────■─────────■────────»\n",
       "«                                                                           »\n",
       "«c: 5/══════════════════════════════════════════════════════════════════════»\n",
       "«                                                                           »\n",
       "«                                                ┌───┐                         »\n",
       "«q_0: ─────────────────────────────────────────X─┤ H ├─■──────────────■────────»\n",
       "«                                              │ └───┘ │P(-π/2) ┌───┐ │        »\n",
       "«q_1: ─────────────────────────────────────────┼───────■────────┤ H ├─┼────────»\n",
       "«                                              │                └───┘ │P(-π/4) »\n",
       "«q_2: ─────────────────────────────────────────┼──────────────────────■────────»\n",
       "«                                              │                               »\n",
       "«q_3: ─────────────────────────────────────────┼───────────────────────────────»\n",
       "«                                              │                               »\n",
       "«q_4: ─■─────────■─────────■─────────■─────────X───────────────────────────────»\n",
       "«      │P(2π/3)  │P(2π/3)  │P(2π/3)  │P(2π/3)                                  »\n",
       "«q_5: ─■─────────■─────────■─────────■─────────────────────────────────────────»\n",
       "«                                                                              »\n",
       "«c: 5/═════════════════════════════════════════════════════════════════════════»\n",
       "«                                                                              »\n",
       "«                                                                       ┌─┐»\n",
       "«q_0: ───────────■────────────────────────■─────────────────────────────┤M├»\n",
       "«                │                        │                             └╥┘»\n",
       "«q_1: ─■─────────┼──────────────■─────────┼────────────────────■─────────╫─»\n",
       "«      │P(-π/2)  │        ┌───┐ │         │                    │         ║ »\n",
       "«q_2: ─■─────────┼────────┤ H ├─┼─────────┼──────────■─────────┼─────────╫─»\n",
       "«                │P(-π/8) └───┘ │P(-π/4)  │          │P(-π/2)  │         ║ »\n",
       "«q_3: ───────────■──────────────■─────────┼──────────■─────────┼─────────╫─»\n",
       "«                                         │P(-π/16)            │P(-π/8)  ║ »\n",
       "«q_4: ────────────────────────────────────■────────────────────■─────────╫─»\n",
       "«                                                                        ║ »\n",
       "«q_5: ───────────────────────────────────────────────────────────────────╫─»\n",
       "«                                                                        ║ »\n",
       "«c: 5/═══════════════════════════════════════════════════════════════════╩═»\n",
       "«                                                                        0 »\n",
       "«                                               \n",
       "«q_0: ──────────────────────────────────────────\n",
       "«                    ┌─┐                        \n",
       "«q_1: ───────────────┤M├────────────────────────\n",
       "«                    └╥┘          ┌─┐           \n",
       "«q_2: ──────■─────────╫───────────┤M├───────────\n",
       "«     ┌───┐ │         ║           └╥┘     ┌─┐   \n",
       "«q_3: ┤ H ├─┼─────────╫──■─────────╫──────┤M├───\n",
       "«     └───┘ │P(-π/4)  ║  │P(-π/2)  ║ ┌───┐└╥┘┌─┐\n",
       "«q_4: ──────■─────────╫──■─────────╫─┤ H ├─╫─┤M├\n",
       "«                     ║            ║ └───┘ ║ └╥┘\n",
       "«q_5: ────────────────╫────────────╫───────╫──╫─\n",
       "«                     ║            ║       ║  ║ \n",
       "«c: 5/════════════════╩════════════╩═══════╩══╩═\n",
       "«                     1            2       3  4 "
      ]
     },
     "execution_count": 10,
     "metadata": {},
     "output_type": "execute_result"
    }
   ],
   "source": [
    "qpe3 = QuantumCircuit(6, 5)\n",
    "\n",
    "for qubit in range(5):\n",
    "    qpe3.h(qubit)\n",
    "qpe3.x(5)\n",
    "\n",
    "angle = 2*math.pi/3\n",
    "repetitions = 1\n",
    "for counting_qubit in range(5):\n",
    "    for i in range(repetitions):\n",
    "        qpe3.cp(angle, counting_qubit, 5);\n",
    "    repetitions *= 2\n",
    "\n",
    "qft_dagger(qpe3, 5)\n",
    "\n",
    "for n in range(5):\n",
    "    qpe3.measure(n, n)\n",
    "\n",
    "qpe3.draw()"
   ]
  },
  {
   "cell_type": "code",
   "execution_count": 11,
   "metadata": {},
   "outputs": [
    {
     "data": {
      "image/png": "[encoded data removed]",
      "text/plain": [
       "<Figure size 504x360 with 1 Axes>"
      ]
     },
     "execution_count": 11,
     "metadata": {},
     "output_type": "execute_result"
    }
   ],
   "source": [
    "aer_sim = Aer.get_backend('aer_simulator')\n",
    "shots = 2048\n",
    "t_qpe3 = transpile(qpe3, aer_sim)\n",
    "qobj = assemble(t_qpe3, shots=shots)\n",
    "results = aer_sim.run(qobj).result()\n",
    "counts = results.get_counts()\n",
    "\n",
    "plot_histogram(counts)"
   ]
  },
  {
   "cell_type": "markdown",
   "metadata": {},
   "source": [
    "The two most likely results are now $[01010]_2=10$ and $[01011]_2=11$, corresponding to $\\theta=\\frac{10}{2^5}=0.313$ and $\\frac{10}{2^5}=0.344$. These two results differ from the true value $\\frac{1}{3}$ by 6% and 3% respectively. We can see that the precision has improved considerably. "
   ]
  }
 ],
 "metadata": {
  "interpreter": {
   "hash": "31f2aee4e71d21fbe5cf8b01ff0e069b9275f58929596ceb00d14d90e3e16cd6"
  },
  "kernelspec": {
   "display_name": "Python 3.6.9 64-bit",
   "language": "python",
   "name": "python3"
  },
  "language_info": {
   "codemirror_mode": {
    "name": "ipython",
    "version": 3
   },
   "file_extension": ".py",
   "mimetype": "text/x-python",
   "name": "python",
   "nbconvert_exporter": "python",
   "pygments_lexer": "ipython3",
   "version": "3.6.9"
  },
  "orig_nbformat": 4
 },
 "nbformat": 4,
 "nbformat_minor": 2
}
